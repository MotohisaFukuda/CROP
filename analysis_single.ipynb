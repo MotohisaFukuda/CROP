{
 "cells": [
  {
   "cell_type": "code",
   "execution_count": null,
   "metadata": {},
   "outputs": [],
   "source": [
    "place = r\"\"\n",
    "name_measurement = r\"\"\n",
    "dic_name = r\"\""
   ]
  },
  {
   "cell_type": "code",
   "execution_count": null,
   "metadata": {},
   "outputs": [],
   "source": [
    "##### \n",
    "from source3 import *\n",
    "device = \"cuda:0\" if torch.cuda.is_available() else \"cpu\"\n",
    "process_single_pic = ProcessingSinglePic(dic_name=dic_name, device=device, directory=place, name_measurement=name_measurement, \n",
    "                    threshold=0.5, average=True, mode=\"median\", save_all=True,\n",
    "                    show_adjusted=True, show_adjust_process=True, show_final=True, show_in_original=True, \n",
    "                    size_pointer1=5, size_pointer2=20)",
    "info = find_pics(place)\n",
    "#####"
   ]
  },
  {
   "cell_type": "code",
   "execution_count": null,
   "metadata": {},
   "outputs": [],
   "source": [
    "pic_id = \n",
    "######\n",
    "pic_original = open_image(info[pic_id][1])\n",
    "#####"
   ]
  },
  {
   "cell_type": "code",
   "execution_count": null,
   "metadata": {},
   "outputs": [],
   "source": [
    "center = (x ,y)\n",
    "scale = z\n",
    "\n",
    "#####\n",
    "crop_image_raw(pic_original, center, scale)\n",
    "#####"
   ]
  },
  {
   "cell_type": "code",
   "execution_count": null,
   "metadata": {
    "scrolled": false
   },
   "outputs": [],
   "source": [
    "#####\n",
    "start = time.time()\n",
    "process_single_pic(name_path_tuple=info[pic_id], center=center, scale=scale)\n",
    "end = time.time()\n",
    "print(\"time\", end - start)\n",
    "#####"
   ]
  },
  {
   "cell_type": "code",
   "execution_count": null,
   "metadata": {},
   "outputs": [],
   "source": []
  },
  {
   "cell_type": "code",
   "execution_count": null,
   "metadata": {},
   "outputs": [],
   "source": []
  },
  {
   "cell_type": "code",
   "execution_count": null,
   "metadata": {},
   "outputs": [],
   "source": []
  }
 ],
 "metadata": {
  "kernelspec": {
   "display_name": "Python 3",
   "language": "python",
   "name": "python3"
  },
  "language_info": {
   "codemirror_mode": {
    "name": "ipython",
    "version": 3
   },
   "file_extension": ".py",
   "mimetype": "text/x-python",
   "name": "python",
   "nbconvert_exporter": "python",
   "pygments_lexer": "ipython3",
   "version": "3.7.5"
  }
 },
 "nbformat": 4,
 "nbformat_minor": 2
}
