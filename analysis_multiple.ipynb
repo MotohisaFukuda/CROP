{
 "cells": [
  {
   "cell_type": "code",
   "execution_count": null,
   "metadata": {},
   "outputs": [],
   "source": [
    "place = r\"\"\n",
    "name_measurement = r\"\"\n",
    "dic_name = r\"\""
   ]
  },
  {
   "cell_type": "code",
   "execution_count": null,
   "metadata": {},
   "outputs": [],
   "source": [
    "#####\n",
    "from source import *\n",
    "device = \"cuda:1\" if torch.cuda.is_available() else \"cpu\"\n",
    "process_multiple_pics = ProcessingMultiplePics(\n",
    "                        dic_name=dic_name, device=device, directory=place, name_measurement=name_measurement, \n",
    "                        threshold=0.5, average=True, mode=\"median\", save_all=True, exploration_rate=1.5,\n",
    "                        size_pointer1=5)\n",
    "process_multiple_pics = ProcessingMultiplePics(device=device, directory=data_dir_colab, name_measurement=name_measurement, \n",
    "                        threshold=0.5, average=True, mode=\"median\", save_all=True,\n",
    "                        show_adjusted=False, show_adjust_process=\"flash\", show_final=False, show_in_original=False,  #show_adjust_process = False or \"flash\"\n",
    "                        size_pointer1=5, size_pointer2=20, dic_name=os.path.join(place, \"net_dic_ft_0328_1_5000\")) # now: _ft\n",
    "info = find_pics(place)\n",
    "pic_original = open_image(info[0][1])\n",
    "#####"
   ]
  },
  {
   "cell_type": "code",
   "execution_count": null,
   "metadata": {},
   "outputs": [],
   "source": [
    "center = (x, y)\n",
    "scale = z\n",
    "\n",
    "#####\n",
    "_ = crop_image_raw(pic_original, center, scale)\n",
    "#####"
   ]
  },
  {
   "cell_type": "code",
   "execution_count": null,
   "metadata": {
    "scrolled": false
   },
   "outputs": [],
   "source": [
    "#####\n",
    "start = time.time()\n",
    "process_multiple_pics(info, center=center, scale=scale)\n",
    "end = time.time()\n",
    "print(\"time\", end - start)\n",
    "#####"
   ]
  }
 ],
 "metadata": {
  "kernelspec": {
   "display_name": "Python 3",
   "language": "python",
   "name": "python3"
  },
  "language_info": {
   "codemirror_mode": {
    "name": "ipython",
    "version": 3
   },
   "file_extension": ".py",
   "mimetype": "text/x-python",
   "name": "python",
   "nbconvert_exporter": "python",
   "pygments_lexer": "ipython3",
   "version": "3.8.5"
  }
 },
 "nbformat": 4,
 "nbformat_minor": 2
}
