{
 "cells": [
  {
   "cell_type": "code",
   "execution_count": null,
   "metadata": {},
   "outputs": [],
   "source": [
    "place = r\"\"\n",
    "name_measurement = r\"\"\n",
    "dic_name = r\"\""
   ]
  },
  {
   "cell_type": "code",
   "execution_count": null,
   "metadata": {},
   "outputs": [],
   "source": [
    "#####\n",
    "from source3 import *\n",
    "device = \"cuda:1\" if torch.cuda.is_available() else \"cpu\"\n",
    "process_multiple_pics = ProcessingMultiplePics(\n",
    "                        dic_name=dic_name, device=device, directory=place, name_measurement=name_measurement, \n",
    "                        threshold=0.5, average=True, mode=\"median\", save_all=True, exploration_rate=1.5,\n",
    "                        size_pointer1=5)\n",
    "info = find_pics(place)\n",
    "pic_original = open_image(info[0][1])\n",
    "#####"
   ]
  },
  {
   "cell_type": "code",
   "execution_count": null,
   "metadata": {},
   "outputs": [],
   "source": [
    "center = (, )\n",
    "scale = \n",
    "\n",
    "#####\n",
    "_ = crop_image_raw(pic_original, center, scale)\n",
    "#####"
   ]
  },
  {
   "cell_type": "code",
   "execution_count": null,
   "metadata": {
    "scrolled": false
   },
   "outputs": [],
   "source": [
    "#####\n",
    "start = time.time()\n",
    "process_multiple_pics(info, center=center, scale=scale)\n",
    "end = time.time()\n",
    "print(\"time\", end - start)\n",
    "#####"
   ]
  },
  {
   "cell_type": "code",
   "execution_count": null,
   "metadata": {},
   "outputs": [],
   "source": []
  }
 ],
 "metadata": {
  "kernelspec": {
   "display_name": "Python 3",
   "language": "python",
   "name": "python3"
  },
  "language_info": {
   "codemirror_mode": {
    "name": "ipython",
    "version": 3
   },
   "file_extension": ".py",
   "mimetype": "text/x-python",
   "name": "python",
   "nbconvert_exporter": "python",
   "pygments_lexer": "ipython3",
   "version": "3.7.5"
  }
 },
 "nbformat": 4,
 "nbformat_minor": 2
}
