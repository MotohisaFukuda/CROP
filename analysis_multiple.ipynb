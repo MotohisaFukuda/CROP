{
 "cells": [
  {
   "cell_type": "markdown",
   "metadata": {},
   "source": [
    "Set the directory/folder of your images as \"place\". the name of measurement as \"name_measurement\" and pick the dictionary name as \"dic_name\". Then, execute it."
   ]
  },
  {
   "cell_type": "code",
   "execution_count": null,
   "metadata": {},
   "outputs": [],
   "source": [
    "place = r\"\"\n",
    "name_measurement = r\"\"\n",
    "dic_name = r\"\""
   ]
  },
  {
   "cell_type": "markdown",
   "metadata": {},
   "source": [
    "Just execute the following tab unless you want to change the parameters or dictionaries. You will see the first image in the directory/folder; the order is alphanumeric. . "
   ]
  },
  {
   "cell_type": "code",
   "execution_count": null,
   "metadata": {},
   "outputs": [],
   "source": [
    "#####\n",
    "from source import *\n",
    "device = \"cuda:0\" if torch.cuda.is_available() else \"cpu\"\n",
    "process_multiple_pics = ProcessingMultiplePics(\n",
    "    dic_name=dic_name, device=device, directory=place, name_measurement=name_measurement, \n",
    "    threshold=0.5, average=True, mode=\"median\", save_all=True, \n",
    "    show_adjusted=False, show_adjust_process=False, show_final=False, show_in_original=False, \n",
    "    size_pointer1=5, size_pointer2=10, exploration_rate=1.5)\n",
    "info = find_pics(place)\n",
    "pic_original = open_image(info[0][1])\n",
    "#####"
   ]
  },
  {
   "cell_type": "markdown",
   "metadata": {},
   "source": [
    "In the following tab, one can crop the image to place the target fruit/object around at the center and make it not too small in the frame. You can repeat this process (set the values and execute the tab) as many times as you like. "
   ]
  },
  {
   "cell_type": "code",
   "execution_count": null,
   "metadata": {},
   "outputs": [],
   "source": [
    "center = (x, y)\n",
    "scale = z\n",
    "\n",
    "#####\n",
    "_ = crop_image_raw(pic_original, center, scale)\n",
    "#####"
   ]
  },
  {
   "cell_type": "markdown",
   "metadata": {},
   "source": [
    "If you are fine with your cropping, execute the following tab."
   ]
  },
  {
   "cell_type": "code",
   "execution_count": null,
   "metadata": {
    "scrolled": false
   },
   "outputs": [],
   "source": [
    "#####\n",
    "start = time.time()\n",
    "process_multiple_pics(info, center=center, scale=scale)\n",
    "end = time.time()\n",
    "print(\"time\", end - start)\n",
    "#####"
   ]
  }
 ],
 "metadata": {
  "kernelspec": {
   "display_name": "Python 3",
   "language": "python",
   "name": "python3"
  },
  "language_info": {
   "codemirror_mode": {
    "name": "ipython",
    "version": 3
   },
   "file_extension": ".py",
   "mimetype": "text/x-python",
   "name": "python",
   "nbconvert_exporter": "python",
   "pygments_lexer": "ipython3",
   "version": "3.8.5"
  }
 },
 "nbformat": 4,
 "nbformat_minor": 2
}
