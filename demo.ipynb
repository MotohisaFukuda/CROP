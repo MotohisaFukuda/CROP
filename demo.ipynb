{
 "cells": [
  {
   "cell_type": "code",
   "execution_count": null,
   "metadata": {},
   "outputs": [],
   "source": [
    "from source import *\n",
    "device = \"cuda:0\" if torch.cuda.is_available() else \"cpu\"\n",
    "segment_image = AnalyzingImage(dic_name=\"net_dic_0314_05000\", device=device, threshold=0.5, average=True, mode=\"median\", save_all=False,\n",
    "                 show_adjusted=False, show_adjust_process=None, show_final=True, show_in_original=True, \n",
    "                 size_pointer1=5, size_pointer2=10)\n",
    "#SegmentingImage(threshold=0.5, device=device, average=True)"
   ]
  },
  {
   "cell_type": "code",
   "execution_count": null,
   "metadata": {},
   "outputs": [],
   "source": [
    "url = input()"
   ]
  },
  {
   "cell_type": "code",
   "execution_count": null,
   "metadata": {},
   "outputs": [],
   "source": [
    "pic_original = open_image(url)"
   ]
  },
  {
   "cell_type": "code",
   "execution_count": null,
   "metadata": {
    "scrolled": false
   },
   "outputs": [],
   "source": [
    "center = (x, y)\n",
    "scale = z\n",
    "pic_cropped = crop_image(pic_original, center, scale)"
   ]
  },
  {
   "cell_type": "code",
   "execution_count": null,
   "metadata": {
    "scrolled": false
   },
   "outputs": [],
   "source": [
    "_ = segment_image(pic_original, center, scale)"
   ]
  }
 ],
 "metadata": {
  "kernelspec": {
   "display_name": "Python 3",
   "language": "python",
   "name": "python3"
  },
  "language_info": {
   "codemirror_mode": {
    "name": "ipython",
    "version": 3
   },
   "file_extension": ".py",
   "mimetype": "text/x-python",
   "name": "python",
   "nbconvert_exporter": "python",
   "pygments_lexer": "ipython3",
   "version": "3.8.5"
  }
 },
 "nbformat": 4,
 "nbformat_minor": 2
}
