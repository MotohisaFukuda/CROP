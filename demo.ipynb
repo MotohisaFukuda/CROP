{
 "cells": [
  {
   "cell_type": "code",
   "execution_count": null,
   "metadata": {},
   "outputs": [],
   "source": [
    "from source import *\n",
    "device = \"cuda:0\" if torch.cuda.is_available() else \"cpu\"\n",
    "segment_image = SegmentingImage(threshold=0.5, device=device, average=True)"
   ]
  },
  {
   "cell_type": "code",
   "execution_count": null,
   "metadata": {},
   "outputs": [],
   "source": [
    "place = \"\"\n",
    "pic_original = open_image(place)"
   ]
  },
  {
   "cell_type": "code",
   "execution_count": null,
   "metadata": {},
   "outputs": [],
   "source": [
    "center = (x, y)\n",
    "scale = z\n",
    "pic_cropped = crop_image(pic_original, center, scale)"
   ]
  },
  {
   "cell_type": "code",
   "execution_count": null,
   "metadata": {},
   "outputs": [],
   "source": [
    "list_pics, num_pixels = segment_image(pic_cropped)\n",
    "for pic in list_pics:\n",
    "    plt.imshow(pic)\n",
    "    plt.axis('off')\n",
    "    plt.show()\n",
    "print(num_pixels)"
   ]
  }
 ],
 "metadata": {
  "kernelspec": {
   "display_name": "Python 3",
   "language": "python",
   "name": "python3"
  },
  "language_info": {
   "codemirror_mode": {
    "name": "ipython",
    "version": 3
   },
   "file_extension": ".py",
   "mimetype": "text/x-python",
   "name": "python",
   "nbconvert_exporter": "python",
   "pygments_lexer": "ipython3",
   "version": "3.6.8"
  }
 },
 "nbformat": 4,
 "nbformat_minor": 2
}
